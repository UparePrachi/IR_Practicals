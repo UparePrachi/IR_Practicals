{
 "cells": [
  {
   "cell_type": "markdown",
   "id": "166d9399",
   "metadata": {},
   "source": [
    "### Name:-Prachi Balaji Upare\n",
    "### Roll no.:2447053    \n",
    "### Branch:-C\n",
    "### Practical no.4:- Implement Page Rank Algorithm. (Use python or beautiful soup for implementation). "
   ]
  },
  {
   "cell_type": "code",
   "execution_count": 1,
   "id": "e4e4013b",
   "metadata": {},
   "outputs": [],
   "source": [
    "import numpy as np"
   ]
  },
  {
   "cell_type": "code",
   "execution_count": 2,
   "id": "1be94b98",
   "metadata": {},
   "outputs": [],
   "source": [
    "def calculate_pagerank(adjecency_matrix,damping_factor=0.85,max_iteration=100,tolerance=1e-6):\n",
    "    num_node=adjecency_matrix.shape[0]\n",
    "    pagerank=np.ones(num_node)/num_node\n",
    "    for _ in range(max_iteration):\n",
    "        new_pagerank=(1-damping_factor)/num_node+damping_factor*np.dot(adjecency_matrix.T,pagerank/adjecency_matrix.sum(axis=1))\n",
    "        if np.linalg.norm(new_pagerank-pagerank)<tolerance:\n",
    "            break\n",
    "        pagerank=new_pagerank\n",
    "    return pagerank        "
   ]
  },
  {
   "cell_type": "code",
   "execution_count": 3,
   "id": "afe961c1",
   "metadata": {},
   "outputs": [
    {
     "name": "stdout",
     "output_type": "stream",
     "text": [
      "Enter number of nodes3\n",
      "Enter adjecency matrix(0 for no link, 1 for link):\n",
      "Rows1:0 1 1\n",
      "Rows2:1 0 0\n",
      "Rows3:0 1 0\n"
     ]
    }
   ],
   "source": [
    "rows=int(input(\"Enter number of nodes\"))\n",
    "adjecency_matrix=np.zeros((rows,rows))\n",
    "print(\"Enter adjecency matrix(0 for no link, 1 for link):\")\n",
    "for i in range(rows):\n",
    "    adjecency_matrix[i]=list(map(int,input(f\"Rows{i+1}:\").split()))"
   ]
  },
  {
   "cell_type": "code",
   "execution_count": 4,
   "id": "3abbef59",
   "metadata": {},
   "outputs": [
    {
     "name": "stdout",
     "output_type": "stream",
     "text": [
      "Node1: 0.3878\n",
      "Node2: 0.3974\n",
      "Node3: 0.2148\n"
     ]
    }
   ],
   "source": [
    "pagerank_score=calculate_pagerank(adjecency_matrix)\n",
    "for i,score in enumerate(pagerank_score):\n",
    "    print(f\"Node{i+1}: {score:.4f}\")"
   ]
  },
  {
   "cell_type": "code",
   "execution_count": null,
   "id": "c29b45e9",
   "metadata": {},
   "outputs": [],
   "source": []
  }
 ],
 "metadata": {
  "kernelspec": {
   "display_name": "Python 3 (ipykernel)",
   "language": "python",
   "name": "python3"
  },
  "language_info": {
   "codemirror_mode": {
    "name": "ipython",
    "version": 3
   },
   "file_extension": ".py",
   "mimetype": "text/x-python",
   "name": "python",
   "nbconvert_exporter": "python",
   "pygments_lexer": "ipython3",
   "version": "3.9.7"
  }
 },
 "nbformat": 4,
 "nbformat_minor": 5
}
