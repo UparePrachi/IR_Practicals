{
  "nbformat": 4,
  "nbformat_minor": 0,
  "metadata": {
    "colab": {
      "provenance": []
    },
    "kernelspec": {
      "name": "python3",
      "display_name": "Python 3"
    },
    "language_info": {
      "name": "python"
    }
  },
  "cells": [
    {
      "cell_type": "markdown",
      "source": [
        "**Image Extraction**\n"
      ],
      "metadata": {
        "id": "G1LVn9PqtzHn"
      }
    },
    {
      "cell_type": "code",
      "execution_count": null,
      "metadata": {
        "id": "lAOTH4TntHc2"
      },
      "outputs": [],
      "source": [
        "from bs4 import BeautifulSoup\n",
        "import requests"
      ]
    },
    {
      "cell_type": "code",
      "source": [
        "url='https://www.thehindu.com/sci-tech/technology/gadgets/sony-launches-mdr-m1-reference-closed-monitor-headphones-for-creators/article68684894.ece'"
      ],
      "metadata": {
        "id": "YXES4ZGktJVv"
      },
      "execution_count": null,
      "outputs": []
    },
    {
      "cell_type": "code",
      "source": [
        "page=requests.get(url)\n",
        "page"
      ],
      "metadata": {
        "colab": {
          "base_uri": "https://localhost:8080/"
        },
        "id": "xDS3ntZDtLZs",
        "outputId": "772b1ef9-b94c-436f-f4b1-1606f92eea81"
      },
      "execution_count": null,
      "outputs": [
        {
          "output_type": "execute_result",
          "data": {
            "text/plain": [
              "<Response [200]>"
            ]
          },
          "metadata": {},
          "execution_count": 3
        }
      ]
    },
    {
      "cell_type": "code",
      "source": [
        "soup=BeautifulSoup(page.content,'html.parser')"
      ],
      "metadata": {
        "id": "7krcRdlLtOR7"
      },
      "execution_count": null,
      "outputs": []
    },
    {
      "cell_type": "code",
      "source": [
        "img_tag=soup.find('source')\n",
        "img_tag"
      ],
      "metadata": {
        "colab": {
          "base_uri": "https://localhost:8080/"
        },
        "id": "RyINvCiqtQj-",
        "outputId": "45912613-58d3-4107-ba3a-11b67a83d4a9"
      },
      "execution_count": null,
      "outputs": [
        {
          "output_type": "execute_result",
          "data": {
            "text/plain": [
              "<source media=\"(min-width: 1600px)\" sizes=\"960px\" srcset=\"https://th-i.thgim.com/public/sci-tech/technology/gadgets/8pll81/article68684899.ece/alternates/LANDSCAPE_1200/M1_Situation_HomeStudio_1..jpg\"/>"
            ]
          },
          "metadata": {},
          "execution_count": 5
        }
      ]
    },
    {
      "cell_type": "code",
      "source": [
        "img_url=img_tag['srcset']"
      ],
      "metadata": {
        "id": "xAObKvF1tSdN"
      },
      "execution_count": null,
      "outputs": []
    },
    {
      "cell_type": "code",
      "source": [
        "image=requests.get(img_url)"
      ],
      "metadata": {
        "id": "oyE8tNHbtWBA"
      },
      "execution_count": null,
      "outputs": []
    },
    {
      "cell_type": "code",
      "source": [
        "with open('image.jpg','wb') as file:\n",
        "  for chunk in image.iter_content(chunk_size=1024):\n",
        "    file.write(chunk)"
      ],
      "metadata": {
        "id": "CTXYtyC5tZFA"
      },
      "execution_count": null,
      "outputs": []
    },
    {
      "cell_type": "markdown",
      "source": [
        "**PPT extraction**"
      ],
      "metadata": {
        "id": "LJrs6Gu7uKBQ"
      }
    },
    {
      "cell_type": "code",
      "source": [
        "ppt=requests.get('http://howtowebscrape.com/examples/media/images/SampleSlides.pptx')"
      ],
      "metadata": {
        "id": "iZWWA8KfuEP0"
      },
      "execution_count": null,
      "outputs": []
    },
    {
      "cell_type": "code",
      "source": [
        "with open('Sample.pptx','wb') as file:\n",
        "  for chunk in ppt.iter_content(chunk_size=1024):\n",
        "    file.write(chunk)"
      ],
      "metadata": {
        "id": "jimkfAfzuHEm"
      },
      "execution_count": null,
      "outputs": []
    },
    {
      "cell_type": "markdown",
      "source": [
        "**Mp3 Extraction**"
      ],
      "metadata": {
        "id": "7Bl9YBHHuOwE"
      }
    },
    {
      "cell_type": "code",
      "source": [
        "video=requests.get('http://howtowebscrape.com/examples/media/images/BigRabbit.mp4')"
      ],
      "metadata": {
        "id": "eKCHrFZFuJG8"
      },
      "execution_count": null,
      "outputs": []
    },
    {
      "cell_type": "code",
      "source": [
        "with open('BigRabbit.mp4','wb') as file:\n",
        "  for chunk in video.iter_content(chunk_size=1024):\n",
        "    file.write(chunk)"
      ],
      "metadata": {
        "id": "z44EbQ1RuU12"
      },
      "execution_count": null,
      "outputs": []
    }
  ]
}