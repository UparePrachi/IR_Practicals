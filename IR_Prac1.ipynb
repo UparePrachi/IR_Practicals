{
 "cells": [
  {
   "cell_type": "markdown",
   "metadata": {},
   "source": [
    "### Name:Prachi Balaji Upare\n",
    "### Roll no.:-2447053\n",
    "### Batch:-C\n",
    "### Practical no.1:- Write a program for pre-processing of a text document such as stop word removal, stemming.     "
   ]
  },
  {
   "cell_type": "code",
   "execution_count": 1,
   "metadata": {},
   "outputs": [
    {
     "ename": "ModuleNotFoundError",
     "evalue": "No module named 'inflect'",
     "output_type": "error",
     "traceback": [
      "\u001b[1;31m---------------------------------------------------------------------------\u001b[0m",
      "\u001b[1;31mModuleNotFoundError\u001b[0m                       Traceback (most recent call last)",
      "\u001b[1;32m~\\AppData\\Local\\Temp/ipykernel_6540/349006872.py\u001b[0m in \u001b[0;36m<module>\u001b[1;34m\u001b[0m\n\u001b[0;32m      1\u001b[0m \u001b[1;32mimport\u001b[0m \u001b[0mre\u001b[0m\u001b[1;33m\u001b[0m\u001b[1;33m\u001b[0m\u001b[0m\n\u001b[1;32m----> 2\u001b[1;33m \u001b[1;32mimport\u001b[0m \u001b[0minflect\u001b[0m\u001b[1;33m\u001b[0m\u001b[1;33m\u001b[0m\u001b[0m\n\u001b[0m\u001b[0;32m      3\u001b[0m \u001b[1;32mimport\u001b[0m \u001b[0mstring\u001b[0m\u001b[1;33m\u001b[0m\u001b[1;33m\u001b[0m\u001b[0m\n\u001b[0;32m      4\u001b[0m \u001b[1;32mimport\u001b[0m \u001b[0mnltk\u001b[0m\u001b[1;33m\u001b[0m\u001b[1;33m\u001b[0m\u001b[0m\n\u001b[0;32m      5\u001b[0m \u001b[0mnltk\u001b[0m\u001b[1;33m.\u001b[0m\u001b[0mdownload\u001b[0m\u001b[1;33m(\u001b[0m\u001b[1;34m'stopwords'\u001b[0m\u001b[1;33m)\u001b[0m\u001b[1;33m\u001b[0m\u001b[1;33m\u001b[0m\u001b[0m\n",
      "\u001b[1;31mModuleNotFoundError\u001b[0m: No module named 'inflect'"
     ]
    }
   ],
   "source": [
    "import re\n",
    "import inflect\n",
    "import string\n",
    "import nltk\n",
    "nltk.download('stopwords')\n",
    "nltk.download('punkt_tab')\n",
    "from nltk.corpus import stopwords\n",
    "from nltk.stem import PorterStemmer\n",
    "from nltk.tokenize import word_tokenize\n",
    "\n",
    "stop_words = stopwords.words('english')\n",
    "stemmer = PorterStemmer()\n",
    "inflect_eng = inflect.engine()\n",
    "\n",
    "def to_lower(text):\n",
    "    return text.lower()\n",
    "\n",
    "def to_upper(text):\n",
    "    return text.upper()\n",
    "\n",
    "def remove_number(text):\n",
    "    return re.sub(r'\\d+', '', text)\n",
    "\n",
    "def remove_special_character(text):\n",
    "    return re.sub(r'[^a-zA-Z\\s]', '', text)\n",
    "\n",
    "def tokenize_text(text):\n",
    "    return word_tokenize(text)\n",
    "\n",
    "def remove_stopwords(text):\n",
    "    words = word_tokenize(text)\n",
    "    return ' '.join([w for w in words if w.lower() not in stop_words])\n",
    "\n",
    "def apply_stemming(text):\n",
    "    words = word_tokenize(text)\n",
    "    return ' '.join([stemmer.stem(word) for word in words])\n",
    "\n",
    "def preprocess_text(text):\n",
    "    text = to_lower(text)\n",
    "    text = remove_number(text)\n",
    "    text = remove_special_character(text)\n",
    "    text = remove_stopwords(text)\n",
    "    text = apply_stemming(text)\n",
    "    return text\n",
    "\n"
   ]
  },
  {
   "cell_type": "code",
   "execution_count": null,
   "metadata": {},
   "outputs": [],
   "source": [
    "# Main program\n",
    "text = input(\"Enter your text--> \")\n",
    "while True:\n",
    "    print(\"-------------------------------------------------------------\")\n",
    "    print(\"----------------------Operation Menu-------------------------\")\n",
    "    print(\"1. Convert to lower text\")\n",
    "    print(\"2. Convert to upper text\")\n",
    "    print(\"3. Remove numbers from the text\")\n",
    "    print(\"4. Remove special characters from the text\")\n",
    "    print(\"5. Word Tokenization\")\n",
    "    print(\"6. Remove stopwords from the text\")\n",
    "    print(\"7. Apply stemming to get root form\")\n",
    "    print(\"8. Preprocess the text\")\n",
    "    print(\"0. Exit the operation menu\")\n",
    "    \n",
    "  "
   ]
  },
  {
   "cell_type": "code",
   "execution_count": null,
   "metadata": {},
   "outputs": [],
   "source": [
    "  ch = input(\"Enter your choice to perform operation: \")\n",
    "    if ch == '1':\n",
    "        print(\"Result -------->\", to_lower(text))\n",
    "    elif ch == '2':\n",
    "        print(\"Result -------->\", to_upper(text))\n",
    "    elif ch == '3':\n",
    "        print(\"Result -------->\", remove_number(text))\n",
    "    elif ch == '4':\n",
    "        print(\"Result -------->\", remove_special_character(text))\n",
    "    elif ch == '5':\n",
    "        print(\"Result -------->\", tokenize_text(text))\n",
    "    elif ch == '6':\n",
    "        print(\"Result -------->\", remove_stopwords(text))\n",
    "    elif ch == '7':\n",
    "        print(\"Result -------->\", apply_stemming(text))\n",
    "    elif ch == '8':\n",
    "        print(\"Result -------->\", preprocess_text(text))\n",
    "    elif ch == '0':\n",
    "        print(\"Exiting the loop.\")\n",
    "        break\n",
    "    else:\n",
    "        print(\"Invalid choice. Please try again.\")\n"
   ]
  }
 ],
 "metadata": {
  "kernelspec": {
   "display_name": "Python 3 (ipykernel)",
   "language": "python",
   "name": "python3"
  },
  "language_info": {
   "codemirror_mode": {
    "name": "ipython",
    "version": 3
   },
   "file_extension": ".py",
   "mimetype": "text/x-python",
   "name": "python",
   "nbconvert_exporter": "python",
   "pygments_lexer": "ipython3",
   "version": "3.9.7"
  }
 },
 "nbformat": 4,
 "nbformat_minor": 2
}
